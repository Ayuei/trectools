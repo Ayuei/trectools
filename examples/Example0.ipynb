{
 "cells": [
  {
   "cell_type": "code",
   "execution_count": null,
   "metadata": {
    "ExecuteTime": {
     "end_time": "2019-07-17T14:02:44.257461Z",
     "start_time": "2019-07-17T14:02:44.165425Z"
    }
   },
   "outputs": [],
   "source": [
    "from trectools import TrecQrel, procedures\n",
    "\n",
    "# We load a qrel object from a file:\n",
    "qrels_file = \"./robust03/qrel/robust03_qrels.txt\"\n",
    "qrels = TrecQrel(qrels_file)\n",
    "\n",
    "# Internally TrecTools save the objects as Pandas dataframes\n",
    "qrels.qrels_data.head()"
   ]
  },
  {
   "cell_type": "code",
   "execution_count": null,
   "metadata": {
    "ExecuteTime": {
     "end_time": "2019-07-17T14:03:31.826753Z",
     "start_time": "2019-07-17T14:03:30.094446Z"
    }
   },
   "outputs": [],
   "source": [
    "# We can directly load a set of runs from a directory\n",
    "path_to_runs = \"./robust03/runs/\"\n",
    "runs = procedures.list_of_runs_from_path(path_to_runs, \"*.gz\")\n",
    "\n",
    "runs[0]"
   ]
  },
  {
   "cell_type": "code",
   "execution_count": null,
   "metadata": {
    "ExecuteTime": {
     "start_time": "2019-07-17T14:04:29.414Z"
    }
   },
   "outputs": [],
   "source": [
    "# And quickly generate a P@10 graph with all the runs in a directory:\n",
    "\n",
    "# evaluates all the runs in that directory\n",
    "results = procedures.evaluate_runs(runs, qrels, per_query=True)\n",
    "\n",
    "# gets the P@10 value for each run\n",
    "p10 = procedures.extract_metric_from_results(results, \"P_10\")\n",
    "\n",
    "# Plots the results\n",
    "procedures.plot_system_rank(p10, display_metric=\"P@10\")\n"
   ]
  }
 ],
 "metadata": {
  "kernelspec": {
   "display_name": "Python 3",
   "language": "python",
   "name": "python3"
  },
  "language_info": {
   "codemirror_mode": {
    "name": "ipython",
    "version": 3
   },
   "file_extension": ".py",
   "mimetype": "text/x-python",
   "name": "python",
   "nbconvert_exporter": "python",
   "pygments_lexer": "ipython3",
   "version": "3.7.3"
  },
  "latex_envs": {
   "LaTeX_envs_menu_present": true,
   "autoclose": false,
   "autocomplete": true,
   "bibliofile": "biblio.bib",
   "cite_by": "apalike",
   "current_citInitial": 1,
   "eqLabelWithNumbers": true,
   "eqNumInitial": 1,
   "hotkeys": {
    "equation": "Ctrl-E",
    "itemize": "Ctrl-I"
   },
   "labels_anchors": false,
   "latex_user_defs": false,
   "report_style_numbering": false,
   "user_envs_cfg": false
  },
  "varInspector": {
   "cols": {
    "lenName": 16,
    "lenType": 16,
    "lenVar": 40
   },
   "kernels_config": {
    "python": {
     "delete_cmd_postfix": "",
     "delete_cmd_prefix": "del ",
     "library": "var_list.py",
     "varRefreshCmd": "print(var_dic_list())"
    },
    "r": {
     "delete_cmd_postfix": ") ",
     "delete_cmd_prefix": "rm(",
     "library": "var_list.r",
     "varRefreshCmd": "cat(var_dic_list()) "
    }
   },
   "types_to_exclude": [
    "module",
    "function",
    "builtin_function_or_method",
    "instance",
    "_Feature"
   ],
   "window_display": false
  }
 },
 "nbformat": 4,
 "nbformat_minor": 2
}
