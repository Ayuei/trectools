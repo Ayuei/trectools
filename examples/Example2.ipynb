{
 "cells": [
  {
   "cell_type": "code",
   "execution_count": null,
   "metadata": {
    "ExecuteTime": {
     "end_time": "2019-07-17T13:35:51.512741Z",
     "start_time": "2019-07-17T13:35:50.685264Z"
    }
   },
   "outputs": [],
   "source": [
    "from trectools import TrecPool, TrecRun, TrecPoolMaker\n",
    "\n",
    "r1 = TrecRun(\"./robust03/runs/input.aplrob03a.gz\")\n",
    "r2 = TrecRun(\"./robust03/runs/input.UIUC03Rd1.gz\")\n",
    "\n",
    "len(r1.topics()) # 100 topics\n",
    " \n",
    "# Creates document pools with r1 and r2 using different strategies:\n",
    "\n",
    "# Strategy1: Creates a pool with top 10 documents of each run:\n",
    "pool1 = TrecPoolMaker().make_pool([r1, r2], strategy=\"topX\", topX=10) # Pool with 1636 unique documents.\n",
    "\n",
    "# Strategy2: Creates a pool with 2000 documents (20 per topic) using the reciprocal ranking strategy by Gordon, Clake and Buettcher:\n",
    "pool2 = TrecPoolMaker().make_pool([r1,r2], strategy=\"rrf\", topX=20, rrf_den=60) # Pool with 2000 unique documents.\n"
   ]
  },
  {
   "cell_type": "code",
   "execution_count": null,
   "metadata": {
    "ExecuteTime": {
     "end_time": "2019-07-17T13:36:52.857665Z",
     "start_time": "2019-07-17T13:36:52.831404Z"
    }
   },
   "outputs": [],
   "source": [
    "# Internally a pool is a dictionary (topicid, set(docnames))\n",
    "pool1.pool"
   ]
  },
  {
   "cell_type": "code",
   "execution_count": null,
   "metadata": {
    "ExecuteTime": {
     "end_time": "2019-07-17T13:36:24.569384Z",
     "start_time": "2019-07-17T13:36:24.472190Z"
    }
   },
   "outputs": [],
   "source": [
    "# Check to see which pool covers better my run r1\n",
    "pool1.check_coverage(r1, topX=10) "
   ]
  },
  {
   "cell_type": "code",
   "execution_count": null,
   "metadata": {
    "ExecuteTime": {
     "end_time": "2019-07-17T13:36:36.291118Z",
     "start_time": "2019-07-17T13:36:36.203814Z"
    }
   },
   "outputs": [],
   "source": [
    "pool2.check_coverage(r1, topX=10) # 8.35 "
   ]
  },
  {
   "cell_type": "code",
   "execution_count": null,
   "metadata": {},
   "outputs": [],
   "source": [
    "# Export documents to be judged using Relevation! visual assessing system\n",
    "pool1.export_document_list(filename=\"mypool.txt\", with_format=\"relevation\")"
   ]
  }
 ],
 "metadata": {
  "kernelspec": {
   "display_name": "Python 3",
   "language": "python",
   "name": "python3"
  },
  "language_info": {
   "codemirror_mode": {
    "name": "ipython",
    "version": 3
   },
   "file_extension": ".py",
   "mimetype": "text/x-python",
   "name": "python",
   "nbconvert_exporter": "python",
   "pygments_lexer": "ipython3",
   "version": "3.7.3"
  },
  "latex_envs": {
   "LaTeX_envs_menu_present": true,
   "autoclose": false,
   "autocomplete": true,
   "bibliofile": "biblio.bib",
   "cite_by": "apalike",
   "current_citInitial": 1,
   "eqLabelWithNumbers": true,
   "eqNumInitial": 1,
   "hotkeys": {
    "equation": "Ctrl-E",
    "itemize": "Ctrl-I"
   },
   "labels_anchors": false,
   "latex_user_defs": false,
   "report_style_numbering": false,
   "user_envs_cfg": false
  },
  "varInspector": {
   "cols": {
    "lenName": 16,
    "lenType": 16,
    "lenVar": 40
   },
   "kernels_config": {
    "python": {
     "delete_cmd_postfix": "",
     "delete_cmd_prefix": "del ",
     "library": "var_list.py",
     "varRefreshCmd": "print(var_dic_list())"
    },
    "r": {
     "delete_cmd_postfix": ") ",
     "delete_cmd_prefix": "rm(",
     "library": "var_list.r",
     "varRefreshCmd": "cat(var_dic_list()) "
    }
   },
   "types_to_exclude": [
    "module",
    "function",
    "builtin_function_or_method",
    "instance",
    "_Feature"
   ],
   "window_display": false
  }
 },
 "nbformat": 4,
 "nbformat_minor": 2
}
